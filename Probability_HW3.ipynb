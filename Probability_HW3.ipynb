{
 "cells": [
  {
   "cell_type": "markdown",
   "metadata": {},
   "source": [
    "#### 1. Даны значения зарплат из выборки выпускников: 100, 80, 75, 77, 89, 33, 45, 25, 65, 17, 30, 24, 57, 55, 70, 75, 65, 84, 90, 150. Посчитать (желательно без использования статистических методов наподобие std, var, mean) среднее арифметическое, среднее квадратичное отклонение, смещенную и несмещенную оценки дисперсий для данной выборки."
   ]
  },
  {
   "cell_type": "code",
   "execution_count": 1,
   "metadata": {},
   "outputs": [],
   "source": [
    "import numpy as np\n",
    "import pandas as pd\n",
    "from math import factorial"
   ]
  },
  {
   "cell_type": "code",
   "execution_count": 2,
   "metadata": {},
   "outputs": [],
   "source": [
    "df = pd.DataFrame({\"data\":[100, 80, 75, 77, 89, 33, 45, 25, 65, 17, 30, 24, 57, 55, 70, 75, 65, 84, 90, 150]})"
   ]
  },
  {
   "cell_type": "markdown",
   "metadata": {},
   "source": [
    "##### Среднее значение"
   ]
  },
  {
   "cell_type": "code",
   "execution_count": 3,
   "metadata": {},
   "outputs": [
    {
     "name": "stdout",
     "output_type": "stream",
     "text": [
      "Среднее значение данных = 65.3\n"
     ]
    }
   ],
   "source": [
    "mean_data = df['data'].sum() / df['data'].count()\n",
    "print(f'Среднее значение данных = {mean_data}')"
   ]
  },
  {
   "cell_type": "code",
   "execution_count": 4,
   "metadata": {},
   "outputs": [
    {
     "data": {
      "text/plain": [
       "65.3"
      ]
     },
     "execution_count": 4,
     "metadata": {},
     "output_type": "execute_result"
    }
   ],
   "source": [
    "df['data'].mean()"
   ]
  },
  {
   "cell_type": "markdown",
   "metadata": {},
   "source": [
    "##### Среднее квадратичное отклонение"
   ]
  },
  {
   "cell_type": "code",
   "execution_count": 5,
   "metadata": {},
   "outputs": [
    {
     "name": "stdout",
     "output_type": "stream",
     "text": [
      "Среднее квадратичное отклонение = 30.823854398825596\n"
     ]
    }
   ],
   "source": [
    "data_std = np.sqrt(((df['data'] - df['data'].mean())**2).sum() / df['data'].count())\n",
    "print(f'Среднее квадратичное отклонение = {data_std}')"
   ]
  },
  {
   "cell_type": "code",
   "execution_count": 6,
   "metadata": {},
   "outputs": [
    {
     "data": {
      "text/plain": [
       "30.823854398825596"
      ]
     },
     "execution_count": 6,
     "metadata": {},
     "output_type": "execute_result"
    }
   ],
   "source": [
    "df['data'].std(ddof=0)"
   ]
  },
  {
   "cell_type": "markdown",
   "metadata": {},
   "source": [
    "##### Смещенная оценка дисперсии"
   ]
  },
  {
   "cell_type": "code",
   "execution_count": 7,
   "metadata": {},
   "outputs": [
    {
     "name": "stdout",
     "output_type": "stream",
     "text": [
      "Смещенная оценка дисперсии = 950.11\n"
     ]
    }
   ],
   "source": [
    "data_variance = ((df['data'] - df['data'].mean())**2).sum() / df['data'].count()\n",
    "print(f'Смещенная оценка дисперсии = {data_variance}')"
   ]
  },
  {
   "cell_type": "code",
   "execution_count": 8,
   "metadata": {},
   "outputs": [
    {
     "data": {
      "text/plain": [
       "950.11"
      ]
     },
     "execution_count": 8,
     "metadata": {},
     "output_type": "execute_result"
    }
   ],
   "source": [
    "df['data'].var(ddof=0)"
   ]
  },
  {
   "cell_type": "markdown",
   "metadata": {},
   "source": [
    "##### Несмещенная оценка дисперсии"
   ]
  },
  {
   "cell_type": "code",
   "execution_count": 9,
   "metadata": {},
   "outputs": [
    {
     "name": "stdout",
     "output_type": "stream",
     "text": [
      "Несмещенная оценка дисперсии = 1000.1157894736842\n"
     ]
    }
   ],
   "source": [
    "data_variance2 = ((df['data'] - df['data'].mean())**2).sum() / (df['data'].count()-1)\n",
    "print(f'Несмещенная оценка дисперсии = {data_variance2}')"
   ]
  },
  {
   "cell_type": "code",
   "execution_count": 10,
   "metadata": {},
   "outputs": [
    {
     "data": {
      "text/plain": [
       "1000.1157894736842"
      ]
     },
     "execution_count": 10,
     "metadata": {},
     "output_type": "execute_result"
    }
   ],
   "source": [
    "df['data'].var(ddof=1)"
   ]
  },
  {
   "cell_type": "markdown",
   "metadata": {},
   "source": [
    "#### 2. В первом ящике находится 8 мячей, из которых 5 - белые. Во втором ящике - 12 мячей, из которых 5 белых. Из первого ящика вытаскивают случайным образом два мяча, из второго - 4. Какова вероятность того, что 3 мяча белые?"
   ]
  },
  {
   "cell_type": "code",
   "execution_count": 11,
   "metadata": {},
   "outputs": [],
   "source": [
    "def combinations(n, k):\n",
    "    return int(factorial(n) / (factorial(k) * factorial(n - k)))"
   ]
  },
  {
   "cell_type": "code",
   "execution_count": 12,
   "metadata": {},
   "outputs": [
    {
     "data": {
      "text/plain": [
       "0.12626262626262627"
      ]
     },
     "execution_count": 12,
     "metadata": {},
     "output_type": "execute_result"
    }
   ],
   "source": [
    "p1_1 = combinations(5, 2)/combinations(8, 2)\n",
    "p1_2 = combinations(5, 1) * combinations(7, 3) / combinations(12, 4)\n",
    "p1 = p1_1*p1_2\n",
    "p1"
   ]
  },
  {
   "cell_type": "code",
   "execution_count": 13,
   "metadata": {},
   "outputs": [
    {
     "data": {
      "text/plain": [
       "0.22727272727272727"
      ]
     },
     "execution_count": 13,
     "metadata": {},
     "output_type": "execute_result"
    }
   ],
   "source": [
    "p2_1 = combinations(5, 1)* combinations(3, 1)/combinations(8, 2)\n",
    "p2_2 = combinations(5, 2) * combinations(7, 2) / combinations(12, 4)\n",
    "p2 = p2_1*p2_2\n",
    "p2"
   ]
  },
  {
   "cell_type": "code",
   "execution_count": 14,
   "metadata": {},
   "outputs": [
    {
     "data": {
      "text/plain": [
       "0.01515151515151515"
      ]
     },
     "execution_count": 14,
     "metadata": {},
     "output_type": "execute_result"
    }
   ],
   "source": [
    "p3_1= combinations(3, 2)/combinations(8, 2)\n",
    "p3_2 = combinations(5, 3) * combinations(7, 1) / combinations(12, 4)\n",
    "p3 = p3_1*p3_2\n",
    "p3"
   ]
  },
  {
   "cell_type": "code",
   "execution_count": 15,
   "metadata": {},
   "outputs": [
    {
     "name": "stdout",
     "output_type": "stream",
     "text": [
      "Вероятность того, что 3 мяча белые = 0.3686868686868687\n"
     ]
    }
   ],
   "source": [
    "probability = p1+p2+p3\n",
    "print(f'Вероятность того, что 3 мяча белые = {probability}')"
   ]
  },
  {
   "cell_type": "markdown",
   "metadata": {},
   "source": [
    "#### 3. На соревновании по биатлону один из трех спортсменов стреляет и попадает в мишень. Вероятность попадания для первого спортсмена равна 0.9, для второго — 0.8, для третьего — 0.6. Найти вероятность того, что выстрел произведен: \n",
    "##### a). первым спортсменом"
   ]
  },
  {
   "cell_type": "code",
   "execution_count": 16,
   "metadata": {},
   "outputs": [],
   "source": [
    "p_a = 1/3*0.9 + 1/3*0.8 + 1/3*0.6"
   ]
  },
  {
   "cell_type": "code",
   "execution_count": 17,
   "metadata": {},
   "outputs": [
    {
     "name": "stdout",
     "output_type": "stream",
     "text": [
      "Вероятность того, что выстрел произведен первым спортсменом = 0.391304347826087\n"
     ]
    }
   ],
   "source": [
    "probability_1 = (0.9*1/3)/p_a\n",
    "print(f'Вероятность того, что выстрел произведен первым спортсменом = {probability_1}')"
   ]
  },
  {
   "cell_type": "markdown",
   "metadata": {},
   "source": [
    "##### б). вторым спортсменом "
   ]
  },
  {
   "cell_type": "code",
   "execution_count": 18,
   "metadata": {},
   "outputs": [
    {
     "name": "stdout",
     "output_type": "stream",
     "text": [
      "Вероятность того, что выстрел произведен вторым спортсменом = 0.3478260869565218\n"
     ]
    }
   ],
   "source": [
    "probability_2 = (0.8*1/3)/p_a\n",
    "print(f'Вероятность того, что выстрел произведен вторым спортсменом = {probability_2}')"
   ]
  },
  {
   "cell_type": "markdown",
   "metadata": {},
   "source": [
    "##### в). третьим спортсменом."
   ]
  },
  {
   "cell_type": "code",
   "execution_count": 19,
   "metadata": {},
   "outputs": [
    {
     "name": "stdout",
     "output_type": "stream",
     "text": [
      "Вероятность того, что выстрел произведен третьим спортсменом = 0.2608695652173913\n"
     ]
    }
   ],
   "source": [
    "probability_3 = (0.6*1/3)/p_a\n",
    "print(f'Вероятность того, что выстрел произведен третьим спортсменом = {probability_3}')"
   ]
  },
  {
   "cell_type": "markdown",
   "metadata": {},
   "source": [
    "#### 4. В университет на факультеты A и B поступило равное количество студентов, а на факультет C студентов поступило столько же, сколько на A и B вместе. Вероятность того, что студент факультета A сдаст первую сессию, равна 0.8. Для студента факультета B эта вероятность равна 0.7, а для студента факультета C - 0.9. Студент сдал первую сессию. \n",
    "##### Какова вероятность, что он учится: на факультете A "
   ]
  },
  {
   "cell_type": "code",
   "execution_count": 20,
   "metadata": {},
   "outputs": [
    {
     "data": {
      "text/plain": [
       "0.825"
      ]
     },
     "execution_count": 20,
     "metadata": {},
     "output_type": "execute_result"
    }
   ],
   "source": [
    "p_a = 1/4*0.8 + 1/4*0.7 + 1/2*0.9\n",
    "p_a"
   ]
  },
  {
   "cell_type": "code",
   "execution_count": 21,
   "metadata": {},
   "outputs": [
    {
     "name": "stdout",
     "output_type": "stream",
     "text": [
      "Вероятность того, что студент учится на факультете A = 0.24242424242424246\n"
     ]
    }
   ],
   "source": [
    "probability_a =(0.8*1/4)/p_a\n",
    "print(f'Вероятность того, что студент учится на факультете A = {probability_a}')"
   ]
  },
  {
   "cell_type": "markdown",
   "metadata": {},
   "source": [
    "##### Какова вероятность, что он учится: на факультете B "
   ]
  },
  {
   "cell_type": "code",
   "execution_count": 22,
   "metadata": {},
   "outputs": [
    {
     "name": "stdout",
     "output_type": "stream",
     "text": [
      "Вероятность того, что студент учится на факультете B = 0.21212121212121213\n"
     ]
    }
   ],
   "source": [
    "probability_b =(0.7*1/4)/p_a\n",
    "print(f'Вероятность того, что студент учится на факультете B = {probability_b}')"
   ]
  },
  {
   "cell_type": "markdown",
   "metadata": {},
   "source": [
    "##### Какова вероятность, что он учится: на факультете C?"
   ]
  },
  {
   "cell_type": "code",
   "execution_count": 23,
   "metadata": {},
   "outputs": [
    {
     "name": "stdout",
     "output_type": "stream",
     "text": [
      "Вероятность того, что студент учится на факультете C = 0.5454545454545455\n"
     ]
    }
   ],
   "source": [
    "probability_c =(0.9*1/2)/p_a\n",
    "print(f'Вероятность того, что студент учится на факультете C = {probability_c}')"
   ]
  },
  {
   "cell_type": "markdown",
   "metadata": {},
   "source": [
    "#### 5. Устройство состоит из трех деталей. Для первой детали вероятность выйти из строя в первый месяц равна 0.1, для второй - 0.2, для третьей - 0.25. \n",
    "##### Какова вероятность того, что в первый месяц выйдут из строя: все детали?"
   ]
  },
  {
   "cell_type": "code",
   "execution_count": 24,
   "metadata": {},
   "outputs": [
    {
     "name": "stdout",
     "output_type": "stream",
     "text": [
      "Вероятность того, что в первый месяц выйдут из строя все детали = 0.005000000000000001\n"
     ]
    }
   ],
   "source": [
    "probability_3 = 0.1*0.2*0.25\n",
    "print(f'Вероятность того, что в первый месяц выйдут из строя все детали = {probability_3}')"
   ]
  },
  {
   "cell_type": "markdown",
   "metadata": {},
   "source": [
    "##### Какова вероятность того, что в первый месяц выйдут из строя: только две детали?"
   ]
  },
  {
   "cell_type": "code",
   "execution_count": 25,
   "metadata": {},
   "outputs": [
    {
     "name": "stdout",
     "output_type": "stream",
     "text": [
      "Вероятность того, что в первый месяц выйдут из строя только две детали = 0.08000000000000002\n"
     ]
    }
   ],
   "source": [
    "p2_1 = 0.1*0.2*0.75\n",
    "p2_2 = 0.1*0.25*0.8\n",
    "p2_3 = 0.2*0.25*0.9\n",
    "probability_2 = p2_1+p2_2+p2_3\n",
    "print(f'Вероятность того, что в первый месяц выйдут из строя только две детали = {probability_2}')"
   ]
  },
  {
   "cell_type": "markdown",
   "metadata": {},
   "source": [
    "##### Какова вероятность того, что в первый месяц выйдут из строя: от одной до двух деталей?"
   ]
  },
  {
   "cell_type": "code",
   "execution_count": 26,
   "metadata": {},
   "outputs": [
    {
     "name": "stdout",
     "output_type": "stream",
     "text": [
      "Вероятность того, что в первый месяц выйдут из строя от одной до двух деталей = 0.53\n"
     ]
    }
   ],
   "source": [
    "p1_1 = 0.1*0.8*0.75\n",
    "p1_2 = 0.9*0.2*0.75\n",
    "p1_3 = 0.9*0.8*0.25\n",
    "probability_1 = p1_2+p1_2+p1_3\n",
    "probability_1_2 = probability_1+probability_2\n",
    "print(f'Вероятность того, что в первый месяц выйдут из строя от одной до двух деталей = {probability_1_2}')"
   ]
  }
 ],
 "metadata": {
  "kernelspec": {
   "display_name": "Python 3",
   "language": "python",
   "name": "python3"
  },
  "language_info": {
   "codemirror_mode": {
    "name": "ipython",
    "version": 3
   },
   "file_extension": ".py",
   "mimetype": "text/x-python",
   "name": "python",
   "nbconvert_exporter": "python",
   "pygments_lexer": "ipython3",
   "version": "3.7.6"
  }
 },
 "nbformat": 4,
 "nbformat_minor": 4
}
