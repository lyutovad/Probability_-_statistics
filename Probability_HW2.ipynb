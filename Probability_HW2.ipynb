{
 "cells": [
  {
   "cell_type": "markdown",
   "metadata": {},
   "source": [
    "#### Вероятность того, что стрелок попадет в мишень, выстрелив один раз, равна 0.8. Стрелок выстрелил 100 раз. Найдите вероятность того, что стрелок попадет в цель ровно 85 раз."
   ]
  },
  {
   "cell_type": "code",
   "execution_count": 1,
   "metadata": {},
   "outputs": [],
   "source": [
    "import numpy as np\n",
    "from math import factorial"
   ]
  },
  {
   "cell_type": "code",
   "execution_count": 2,
   "metadata": {},
   "outputs": [],
   "source": [
    "def combinations(n, k):\n",
    "    return int(factorial(n) / (factorial(k) * factorial(n - k)))"
   ]
  },
  {
   "cell_type": "code",
   "execution_count": 3,
   "metadata": {},
   "outputs": [
    {
     "name": "stdout",
     "output_type": "stream",
     "text": [
      "Вероятность того, что стрелок попадет в цель ровно 85 раз = 0.048061793700746355\n"
     ]
    }
   ],
   "source": [
    "n = 100\n",
    "k = 85\n",
    "p = 0.8\n",
    "\n",
    "probability = combinations(n, k) * (p**k) * ((1-p)**(n-k))\n",
    "\n",
    "print(f'Вероятность того, что стрелок попадет в цель ровно 85 раз = {probability}')"
   ]
  },
  {
   "cell_type": "markdown",
   "metadata": {},
   "source": [
    "#### Вероятность того, что лампочка перегорит в течение первого дня эксплуатации, равна 0.0004. В жилом комплексе после ремонта в один день включили 5000 новых лампочек. \n",
    "\n",
    "##### Какова вероятность, что ни одна из них не перегорит в первый день? "
   ]
  },
  {
   "cell_type": "code",
   "execution_count": 4,
   "metadata": {},
   "outputs": [],
   "source": [
    "n = 5000\n",
    "m = 0\n",
    "p = 0.0004\n",
    "\n",
    "lambda_ = n * p"
   ]
  },
  {
   "cell_type": "code",
   "execution_count": 5,
   "metadata": {},
   "outputs": [
    {
     "name": "stdout",
     "output_type": "stream",
     "text": [
      "Вероятность того, что ни одна лампочка не перегорит = 0.1353352832366127\n"
     ]
    }
   ],
   "source": [
    "probability = (lambda_**m / np.math.factorial(m)) * np.exp(-lambda_)\n",
    "print(f'Вероятность того, что ни одна лампочка не перегорит = {probability}')"
   ]
  },
  {
   "cell_type": "markdown",
   "metadata": {},
   "source": [
    "##### Какова вероятность, что перегорят ровно две?"
   ]
  },
  {
   "cell_type": "code",
   "execution_count": 6,
   "metadata": {},
   "outputs": [
    {
     "name": "stdout",
     "output_type": "stream",
     "text": [
      "Вероятность того, что перегорят ровно две лампочки = 0.2706705664732254\n"
     ]
    }
   ],
   "source": [
    "n = 5000\n",
    "m = 2\n",
    "p = 0.0004\n",
    "lambda_ = n * p\n",
    "\n",
    "probability = (lambda_**m / np.math.factorial(m)) * np.exp(-lambda_)\n",
    "\n",
    "print(f'Вероятность того, что перегорят ровно две лампочки = {probability}')"
   ]
  },
  {
   "cell_type": "markdown",
   "metadata": {},
   "source": [
    "#### Монету подбросили 144 раза. Какова вероятность, что орел выпадет ровно 70 раз?"
   ]
  },
  {
   "cell_type": "code",
   "execution_count": 7,
   "metadata": {},
   "outputs": [
    {
     "name": "stdout",
     "output_type": "stream",
     "text": [
      "Вероятность того, что орел выпадет ровно 70 раз = 0.06281178035144776\n"
     ]
    }
   ],
   "source": [
    "n = 144\n",
    "k = 70\n",
    "p = 0.5\n",
    "\n",
    "probability = combinations(n, k) * (p**k) * ((1-p)**(n-k))\n",
    "\n",
    "print(f'Вероятность того, что орел выпадет ровно 70 раз = {probability}')"
   ]
  },
  {
   "cell_type": "markdown",
   "metadata": {},
   "source": [
    "#### В первом ящике находится 10 мячей, из которых 7 - белые. Во втором ящике - 11 мячей, из которых 9 белых. Из каждого ящика вытаскивают случайным образом по два мяча. \n",
    "\n",
    "##### Какова вероятность того, что все мячи белые? "
   ]
  },
  {
   "cell_type": "code",
   "execution_count": 8,
   "metadata": {},
   "outputs": [
    {
     "name": "stdout",
     "output_type": "stream",
     "text": [
      "Вероятность того, что все мячи белые = 0.3054545454545455\n"
     ]
    }
   ],
   "source": [
    "p1 = combinations(7, 2) / combinations(10, 2)\n",
    "p2 = combinations(9, 2) / combinations(11, 2)\n",
    "\n",
    "probability = p1*p2\n",
    "\n",
    "print(f'Вероятность того, что все мячи белые = {probability}')"
   ]
  },
  {
   "cell_type": "markdown",
   "metadata": {},
   "source": [
    "##### Какова вероятность того, что ровно два мяча белые? "
   ]
  },
  {
   "cell_type": "code",
   "execution_count": 9,
   "metadata": {},
   "outputs": [
    {
     "name": "stdout",
     "output_type": "stream",
     "text": [
      "Вероятность того, что ровно два мяча белые = 0.8412121212121213\n"
     ]
    }
   ],
   "source": [
    "p1_1 = combinations(7, 1) / combinations(10, 2)\n",
    "p1_2 = combinations(9, 1) / combinations(11, 2)\n",
    "\n",
    "p1 = p1_1*p1_2\n",
    "\n",
    "p2 =  combinations(7, 2) / combinations(10, 2)\n",
    "\n",
    "p3 = combinations(9, 2) / combinations(11, 2)\n",
    "\n",
    "probability = p1+p2+p3-p2*p3\n",
    "\n",
    "print(f'Вероятность того, что ровно два мяча белые = {probability}')"
   ]
  },
  {
   "cell_type": "markdown",
   "metadata": {},
   "source": [
    "##### Какова вероятность того, что хотя бы один мяч белый?"
   ]
  },
  {
   "cell_type": "code",
   "execution_count": 10,
   "metadata": {},
   "outputs": [
    {
     "name": "stdout",
     "output_type": "stream",
     "text": [
      "Вероятность того, что хотя бы один мяч белый = 0.9987878787878788\n"
     ]
    }
   ],
   "source": [
    "q1 = combinations(3, 2) / combinations(10, 2)\n",
    "q2 = 1 / combinations(11, 2)\n",
    "probability = 1-q1*q2\n",
    "\n",
    "print(f'Вероятность того, что хотя бы один мяч белый = {probability}')"
   ]
  },
  {
   "cell_type": "code",
   "execution_count": null,
   "metadata": {},
   "outputs": [],
   "source": []
  }
 ],
 "metadata": {
  "kernelspec": {
   "display_name": "Python 3",
   "language": "python",
   "name": "python3"
  },
  "language_info": {
   "codemirror_mode": {
    "name": "ipython",
    "version": 3
   },
   "file_extension": ".py",
   "mimetype": "text/x-python",
   "name": "python",
   "nbconvert_exporter": "python",
   "pygments_lexer": "ipython3",
   "version": "3.7.6"
  }
 },
 "nbformat": 4,
 "nbformat_minor": 4
}
